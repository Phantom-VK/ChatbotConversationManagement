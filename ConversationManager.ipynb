{
  "nbformat": 4,
  "nbformat_minor": 0,
  "metadata": {
    "colab": {
      "provenance": [],
      "collapsed_sections": [
        "9gPRrq8PGjJb"
      ]
    },
    "kernelspec": {
      "name": "python3",
      "display_name": "Python 3"
    },
    "language_info": {
      "name": "python"
    }
  },
  "cells": [
    {
      "cell_type": "markdown",
      "source": [
        "# Downloads and Imports"
      ],
      "metadata": {
        "id": "9gPRrq8PGjJb"
      }
    },
    {
      "cell_type": "code",
      "execution_count": null,
      "metadata": {
        "id": "BD0QavPNFhcp"
      },
      "outputs": [],
      "source": [
        "!pip install --quiet requests openai jsonschema"
      ]
    },
    {
      "cell_type": "code",
      "source": [
        "import json\n",
        "from openai import OpenAI\n",
        "from google.colab import userdata\n",
        "from typing import List"
      ],
      "metadata": {
        "id": "bXXbMbfVH7BS"
      },
      "execution_count": null,
      "outputs": []
    },
    {
      "cell_type": "markdown",
      "source": [
        "# Configurations, Model Instances and Constans"
      ],
      "metadata": {
        "id": "b4_fU74jJ66f"
      }
    },
    {
      "cell_type": "code",
      "source": [
        "CHAT_MODEL = \"llama-3.3-70b-versatile\"\n",
        "STRUCTURED_OUTPUT_MODEL = \"openai/gpt-oss-20b\""
      ],
      "metadata": {
        "id": "C0MEJ6f1LM4M"
      },
      "execution_count": null,
      "outputs": []
    },
    {
      "cell_type": "code",
      "source": [
        "client = OpenAI(\n",
        "    base_url=\"https://api.groq.com/openai/v1\",\n",
        "    api_key = userdata.get(\"GROQ_API_KEY\")\n",
        ")"
      ],
      "metadata": {
        "id": "AyNdxjW7J-Dt"
      },
      "execution_count": null,
      "outputs": []
    },
    {
      "cell_type": "code",
      "source": [
        "MESSAGE_HISTORY : List[dict] = []"
      ],
      "metadata": {
        "id": "EqogJWocNBP2"
      },
      "execution_count": 48,
      "outputs": []
    },
    {
      "cell_type": "code",
      "source": [
        "summarization_interval = 8\n",
        "turn_count = 0"
      ],
      "metadata": {
        "id": "wlxFwChyP46F"
      },
      "execution_count": 49,
      "outputs": []
    },
    {
      "cell_type": "code",
      "source": [
        "SUMMARY = \"\""
      ],
      "metadata": {
        "id": "FUDq_20SQn_-"
      },
      "execution_count": 50,
      "outputs": []
    },
    {
      "cell_type": "code",
      "source": [
        "CHAT_MODEL_SYSTEM_PROMPT = \"\"\"\n",
        "\n",
        "\"\"\""
      ],
      "metadata": {
        "id": "fJ8EgtlGSK4B"
      },
      "execution_count": 51,
      "outputs": []
    },
    {
      "cell_type": "markdown",
      "source": [
        "# Conversation Manager Utilities"
      ],
      "metadata": {
        "id": "1ctXTVPmP8Fq"
      }
    },
    {
      "cell_type": "markdown",
      "source": [
        "## Function to add messages"
      ],
      "metadata": {
        "id": "6uTVD5n3eVyy"
      }
    },
    {
      "cell_type": "code",
      "source": [
        "def add_message(message):\n",
        "    global turn_count\n",
        "    role = message['role']\n",
        "    MESSAGE_HISTORY.append(message)\n",
        "    turn_count += 1\n",
        "    print(f\"Turn {turn_count}: Added {message}\")\n",
        "\n",
        "    if turn_count % summarization_interval == 0:\n",
        "      print(f\"Turn count {turn_count}, output: {turn_count % summarization_interval}\")\n",
        "      periodic_summarization()"
      ],
      "metadata": {
        "id": "ydfk_B0OP_br"
      },
      "execution_count": 56,
      "outputs": []
    },
    {
      "cell_type": "markdown",
      "source": [
        "## functionm to create summary"
      ],
      "metadata": {
        "id": "f7t-lgDqeZq2"
      }
    },
    {
      "cell_type": "code",
      "source": [
        "def generate_summary(messages):\n",
        "    global SUMMARY\n",
        "    global turn_count\n",
        "    global MESSAGE_HISTORY\n",
        "\n",
        "    if not MESSAGE_HISTORY:\n",
        "        print(\"No messages to summarize.\")\n",
        "        return\n",
        "    conversation_text = \"\\n\".join([f\"{message['role']}: {message['content']}\" for message in MESSAGE_HISTORY])\n",
        "\n",
        "    summary_prompt = f\"\"\"\n",
        "        Please provide a concise summary of the following conversation, in the third person point of view. Focus on:\n",
        "        1. Main topics discussed\n",
        "        2. Key decisions or outcomes\n",
        "        3. Important information exchanged\n",
        "        4. Overall context and flow\n",
        "\n",
        "        Conversation:\n",
        "        {conversation_text}\n",
        "\n",
        "        Summary:\"\"\"\n",
        "    try:\n",
        "        chat_bot_response = client.chat.completions.create(\n",
        "          model=CHAT_MODEL,\n",
        "            messages=[{\"role\":\"user\", \"content\":conversation_text}],\n",
        "            max_tokens=150,\n",
        "            temperature=0.3)\n",
        "        summary = chat_bot_response.choices[0].message.content.strip()\n",
        "        print(f\"✅ Generated summary ({len(summary)} characters)\")\n",
        "        return summary\n",
        "    except Exception as e:\n",
        "        print(f\"❌ Error generating summary: {e}\")\n",
        "        return \"Summary generation failed\""
      ],
      "metadata": {
        "id": "P_io4vKcWO6E"
      },
      "execution_count": 59,
      "outputs": []
    },
    {
      "cell_type": "markdown",
      "source": [
        "## Function to create periodic summary"
      ],
      "metadata": {
        "id": "s4Cge2reedr-"
      }
    },
    {
      "cell_type": "code",
      "source": [
        "def periodic_summarization():\n",
        "        global MESSAGE_HISTORY\n",
        "        global SUMMARY\n",
        "\n",
        "        # Only generate a new summary if there's enough new conversation\n",
        "        if len(MESSAGE_HISTORY) >= 2:\n",
        "            current_summary = generate_summary(MESSAGE_HISTORY)\n",
        "\n",
        "            if SUMMARY:\n",
        "                # Combine with previous summary\n",
        "                combined_prompt = f\"\"\"\n",
        "                Previous summary: {SUMMARY}\n",
        "\n",
        "                New conversation summary: {current_summary}\n",
        "\n",
        "                Please create a comprehensive summary that combines both:\"\"\"\n",
        "\n",
        "                try:\n",
        "                    response = client.chat.completions.create(\n",
        "                        model=CHAT_MODEL,\n",
        "                        messages=[{\"role\": \"user\", \"content\": combined_prompt}],\n",
        "                        max_tokens= 300,\n",
        "                        temperature=0.3\n",
        "                    )\n",
        "\n",
        "                    SUMMARY = response.choices[0].message.content.strip()\n",
        "\n",
        "                except Exception as e:\n",
        "                    print(f\"❌ Error combining summaries: {e}\")\n",
        "                    SUMMARY = current_summary\n",
        "            else:\n",
        "                SUMMARY = current_summary\n",
        "\n",
        "            # Replace history with summary\n",
        "            MESSAGE_HISTORY = [\n",
        "                {\"role\": \"system\", \"content\": CHAT_MODEL_SYSTEM_PROMPT},\n",
        "                {\"role\": \"system\", \"content\": f\"Previous conversation summary: {SUMMARY}\"}\n",
        "            ]\n",
        "\n",
        "            print(f\"Conversation summarized and history reset\")\n",
        "            print(f\"Current summary length: {len(SUMMARY)} characters\")"
      ],
      "metadata": {
        "id": "kkFgwJ8XezA2"
      },
      "execution_count": 60,
      "outputs": []
    },
    {
      "cell_type": "markdown",
      "source": [
        "# Test Bot"
      ],
      "metadata": {
        "id": "p4pUiT_Sev_J"
      }
    },
    {
      "cell_type": "code",
      "source": [
        "while True:\n",
        "    user_input = input(\"User: \")\n",
        "    add_message({\"role\": \"user\", \"content\": user_input})\n",
        "\n",
        "    try:\n",
        "        chat_bot_response = client.chat.completions.create(\n",
        "            model=CHAT_MODEL,\n",
        "            messages=MESSAGE_HISTORY\n",
        "        )\n",
        "        response_content = chat_bot_response.choices[0].message.content\n",
        "        add_message({\"role\": \"assistant\", \"content\": response_content})\n",
        "\n",
        "        print(f\"Bot: {response_content}\")\n",
        "\n",
        "    except Exception as e:\n",
        "        print(f\"An error occurred: {e}\")"
      ],
      "metadata": {
        "id": "kc8J6W-8R7-g",
        "colab": {
          "base_uri": "https://localhost:8080/",
          "height": 1000
        },
        "outputId": "1ca96f34-7702-4b71-cd36-da7979cbc0b7"
      },
      "execution_count": 57,
      "outputs": [
        {
          "output_type": "stream",
          "name": "stdout",
          "text": [
            "User: Hi, how are you?\n",
            "Turn 8: Added {'role': 'user', 'content': 'Hi, how are you?'}\n",
            "Turn 9: Added {'role': 'assistant', 'content': \"Hello. I'm doing well, thanks for asking. I'm a large language model, so I don't have feelings or emotions like humans do, but I'm functioning properly and ready to help with any questions or topics you'd like to discuss. How about you? How's your day going so far? Is there something specific you'd like to talk about, or would you like to continue exploring the history of computers and civilizations like we started discussing earlier?\"}\n",
            "Bot: Hello. I'm doing well, thanks for asking. I'm a large language model, so I don't have feelings or emotions like humans do, but I'm functioning properly and ready to help with any questions or topics you'd like to discuss. How about you? How's your day going so far? Is there something specific you'd like to talk about, or would you like to continue exploring the history of computers and civilizations like we started discussing earlier?\n",
            "User: How much do you cost?\n",
            "Turn 10: Added {'role': 'user', 'content': 'How much do you cost?'}\n",
            "Turn 11: Added {'role': 'assistant', 'content': \"I'm a large language model, I don't have a personal cost or price tag. I exist as a digital entity, and my purpose is to assist and provide information to users like you. I'm a free service, and you can interact with me without incurring any costs.\\n\\nThat being said, the infrastructure and technology that support me are maintained by my developers, and they may have costs associated with operating and improving the service. However, these costs are not directly passed on to users like you.\\n\\nYou can think of me as a public resource, available to anyone with an internet connection, and you can use me to ask questions, explore topics, or simply chat without worrying about incurring any expenses. How can I assist you today?\"}\n",
            "Bot: I'm a large language model, I don't have a personal cost or price tag. I exist as a digital entity, and my purpose is to assist and provide information to users like you. I'm a free service, and you can interact with me without incurring any costs.\n",
            "\n",
            "That being said, the infrastructure and technology that support me are maintained by my developers, and they may have costs associated with operating and improving the service. However, these costs are not directly passed on to users like you.\n",
            "\n",
            "You can think of me as a public resource, available to anyone with an internet connection, and you can use me to ask questions, explore topics, or simply chat without worrying about incurring any expenses. How can I assist you today?\n",
            "User: Which is most expensive computer on earth?\n",
            "Turn 12: Added {'role': 'user', 'content': 'Which is most expensive computer on earth?'}\n",
            "Turn 13: Added {'role': 'assistant', 'content': 'The most expensive computer on Earth is often subjective and can depend on various factors such as the purpose, specifications, and customization. However, some of the most expensive computers in the world include:\\n\\n1. **Summit Supercomputer**: Located at Oak Ridge National Laboratory in Tennessee, USA, Summit is currently the world\\'s fastest supercomputer, with a price tag of around **$200 million**.\\n2. **Sierra Supercomputer**: Also located at Oak Ridge National Laboratory, Sierra is another powerful supercomputer that costs around **$150 million**.\\n3. **IBM Sequoia**: Developed by IBM, Sequoia is a Blue Gene supercomputer that was built for the Lawrence Livermore National Laboratory in California, USA. Its cost is estimated to be around **$100 million**.\\n4. **Cray Shasta**: The Cray Shasta is a high-performance supercomputer developed by Cray Inc. (now part of HPE). Its price can range from **$50 million to $100 million**, depending on the configuration.\\n5. **ASCI Red**: Built by Intel and Sandia National Laboratories, ASCI Red is a supercomputer that was designed for nuclear simulations. Its cost was around **$55 million** when it was built in the late 1990s.\\n\\nHowever, if we\\'re looking at a single, bespoke computer system, the most expensive one might be:\\n\\n* **The \"Deep Blue\" Chess Computer**: In the 1990s, IBM built a custom computer system called Deep Blue, which was designed specifically to play chess against a human world champion. The system consisted of 32 processors and 480 processors in total, and its estimated cost was around **$10 million to $20 million** in the 1990s, which is equivalent to around **$50 million to $100 million** in today\\'s dollars.\\n\\nKeep in mind that these prices are estimates and may not reflect the actual costs, as they can vary depending on various factors, such as customization, maintenance, and upgrades.'}\n",
            "Bot: The most expensive computer on Earth is often subjective and can depend on various factors such as the purpose, specifications, and customization. However, some of the most expensive computers in the world include:\n",
            "\n",
            "1. **Summit Supercomputer**: Located at Oak Ridge National Laboratory in Tennessee, USA, Summit is currently the world's fastest supercomputer, with a price tag of around **$200 million**.\n",
            "2. **Sierra Supercomputer**: Also located at Oak Ridge National Laboratory, Sierra is another powerful supercomputer that costs around **$150 million**.\n",
            "3. **IBM Sequoia**: Developed by IBM, Sequoia is a Blue Gene supercomputer that was built for the Lawrence Livermore National Laboratory in California, USA. Its cost is estimated to be around **$100 million**.\n",
            "4. **Cray Shasta**: The Cray Shasta is a high-performance supercomputer developed by Cray Inc. (now part of HPE). Its price can range from **$50 million to $100 million**, depending on the configuration.\n",
            "5. **ASCI Red**: Built by Intel and Sandia National Laboratories, ASCI Red is a supercomputer that was designed for nuclear simulations. Its cost was around **$55 million** when it was built in the late 1990s.\n",
            "\n",
            "However, if we're looking at a single, bespoke computer system, the most expensive one might be:\n",
            "\n",
            "* **The \"Deep Blue\" Chess Computer**: In the 1990s, IBM built a custom computer system called Deep Blue, which was designed specifically to play chess against a human world champion. The system consisted of 32 processors and 480 processors in total, and its estimated cost was around **$10 million to $20 million** in the 1990s, which is equivalent to around **$50 million to $100 million** in today's dollars.\n",
            "\n",
            "Keep in mind that these prices are estimates and may not reflect the actual costs, as they can vary depending on various factors, such as customization, maintenance, and upgrades.\n",
            "User: And most costly chip?\n",
            "Turn 14: Added {'role': 'user', 'content': 'And most costly chip?'}\n",
            "Turn 15: Added {'role': 'assistant', 'content': 'The most costly chip is often a matter of debate, as it depends on various factors such as the type of chip, its application, and the production process. However, some of the most expensive chips in the world include:\\n\\n1. **IBM TrueNorth Chip**: Developed by IBM, the TrueNorth chip is a low-power, brain-inspired chip that mimics the function of neurons in the human brain. Its production cost is estimated to be around **$1 million per chip**.\\n2. **Google\\'s Tensor Processing Unit (TPU) Chip**: Google\\'s TPU chip is a custom-built chip designed for machine learning and artificial intelligence applications. Its production cost is estimated to be around **$500,000 to $1 million per chip**.\\n3. **NVIDIA Tesla V100 Chip**: The NVIDIA Tesla V100 chip is a high-end graphics processing unit (GPU) designed for deep learning and AI applications. Its production cost is estimated to be around **$200,000 to $500,000 per chip**.\\n4. **Intel Xeon Phi Chip**: The Intel Xeon Phi chip is a high-performance computing chip designed for supercomputing applications. Its production cost is estimated to be around **$100,000 to $200,000 per chip**.\\n5. **Qualcomm Centriq Chip**: The Qualcomm Centriq chip is a high-end server chip designed for data center applications. Its production cost is estimated to be around **$50,000 to $100,000 per chip**.\\n\\nHowever, if we\\'re looking at a single, highly customized chip, the most expensive one might be:\\n\\n* **The \"GRAPE-DR\" Chip**: Developed by the University of Tokyo, the GRAPE-DR chip is a custom-built chip designed for gravitational physics simulations. Its production cost is estimated to be around **$10 million per chip**, making it one of the most expensive chips in the world.\\n\\nIt\\'s worth noting that these prices are estimates and may not reflect the actual costs, as they can vary depending on various factors, such as production volume, material costs, and research and development expenses.\\n\\nIn addition to these examples, there are also other factors that can contribute to the high cost of a chip, such as:\\n\\n* **Materials**: The use of exotic materials, such as gallium nitride or silicon carbide, can increase the cost of a chip.\\n* **Manufacturing process**: The use of advanced manufacturing processes, such as 3D stacking or nanoscale lithography, can increase the cost of a chip.\\n* **Design**: The complexity of a chip\\'s design, including the number of transistors, gates, and interconnects, can increase its cost.\\n* **Testing and validation**: The cost of testing and validating a chip can also contribute to its overall cost.\\n\\nOverall, the cost of a chip depends on a variety of factors, and the most expensive chip can vary depending on the specific application and requirements.'}\n",
            "Turn count 16, output: 0\n",
            "✅ Generated summary (489 characters)\n",
            "Conversation summarized and history reset\n",
            "Current summary length: 969 characters\n",
            "Bot: The most costly chip is often a matter of debate, as it depends on various factors such as the type of chip, its application, and the production process. However, some of the most expensive chips in the world include:\n",
            "\n",
            "1. **IBM TrueNorth Chip**: Developed by IBM, the TrueNorth chip is a low-power, brain-inspired chip that mimics the function of neurons in the human brain. Its production cost is estimated to be around **$1 million per chip**.\n",
            "2. **Google's Tensor Processing Unit (TPU) Chip**: Google's TPU chip is a custom-built chip designed for machine learning and artificial intelligence applications. Its production cost is estimated to be around **$500,000 to $1 million per chip**.\n",
            "3. **NVIDIA Tesla V100 Chip**: The NVIDIA Tesla V100 chip is a high-end graphics processing unit (GPU) designed for deep learning and AI applications. Its production cost is estimated to be around **$200,000 to $500,000 per chip**.\n",
            "4. **Intel Xeon Phi Chip**: The Intel Xeon Phi chip is a high-performance computing chip designed for supercomputing applications. Its production cost is estimated to be around **$100,000 to $200,000 per chip**.\n",
            "5. **Qualcomm Centriq Chip**: The Qualcomm Centriq chip is a high-end server chip designed for data center applications. Its production cost is estimated to be around **$50,000 to $100,000 per chip**.\n",
            "\n",
            "However, if we're looking at a single, highly customized chip, the most expensive one might be:\n",
            "\n",
            "* **The \"GRAPE-DR\" Chip**: Developed by the University of Tokyo, the GRAPE-DR chip is a custom-built chip designed for gravitational physics simulations. Its production cost is estimated to be around **$10 million per chip**, making it one of the most expensive chips in the world.\n",
            "\n",
            "It's worth noting that these prices are estimates and may not reflect the actual costs, as they can vary depending on various factors, such as production volume, material costs, and research and development expenses.\n",
            "\n",
            "In addition to these examples, there are also other factors that can contribute to the high cost of a chip, such as:\n",
            "\n",
            "* **Materials**: The use of exotic materials, such as gallium nitride or silicon carbide, can increase the cost of a chip.\n",
            "* **Manufacturing process**: The use of advanced manufacturing processes, such as 3D stacking or nanoscale lithography, can increase the cost of a chip.\n",
            "* **Design**: The complexity of a chip's design, including the number of transistors, gates, and interconnects, can increase its cost.\n",
            "* **Testing and validation**: The cost of testing and validating a chip can also contribute to its overall cost.\n",
            "\n",
            "Overall, the cost of a chip depends on a variety of factors, and the most expensive chip can vary depending on the specific application and requirements.\n",
            "User: Ah I see, okay bye\n",
            "Turn 16: Added {'role': 'user', 'content': 'Ah I see, okay bye'}\n",
            "Turn 17: Added {'role': 'assistant', 'content': \"It was nice chatting with you, even if it was just a brief recap. If you have any questions or topics you'd like to discuss in the future, feel free to reach out to me anytime. Have a great day! Bye!\"}\n",
            "Bot: It was nice chatting with you, even if it was just a brief recap. If you have any questions or topics you'd like to discuss in the future, feel free to reach out to me anytime. Have a great day! Bye!\n",
            "User: HI again\n",
            "Turn 18: Added {'role': 'user', 'content': 'HI again'}\n",
            "Turn 19: Added {'role': 'assistant', 'content': \"Welcome back! I'm glad you're back to chat. Is there something specific you'd like to talk about or learn more about? We can pick up where we left off with computers and civilizations, or explore a completely new topic. What's on your mind?\"}\n",
            "Bot: Welcome back! I'm glad you're back to chat. Is there something specific you'd like to talk about or learn more about? We can pick up where we left off with computers and civilizations, or explore a completely new topic. What's on your mind?\n",
            "User: bye again\n",
            "Turn 20: Added {'role': 'user', 'content': 'bye again'}\n",
            "Turn 21: Added {'role': 'assistant', 'content': \"It was nice seeing you again, even if it was just a quick hello. If you change your mind and want to chat, you know where to find me. Have a wonderful day and I'll talk to you soon (maybe)! Bye again!\"}\n",
            "Bot: It was nice seeing you again, even if it was just a quick hello. If you change your mind and want to chat, you know where to find me. Have a wonderful day and I'll talk to you soon (maybe)! Bye again!\n"
          ]
        },
        {
          "output_type": "error",
          "ename": "KeyboardInterrupt",
          "evalue": "Interrupted by user",
          "traceback": [
            "\u001b[0;31m---------------------------------------------------------------------------\u001b[0m",
            "\u001b[0;31mKeyboardInterrupt\u001b[0m                         Traceback (most recent call last)",
            "\u001b[0;32m/tmp/ipython-input-3206534111.py\u001b[0m in \u001b[0;36m<cell line: 0>\u001b[0;34m()\u001b[0m\n\u001b[1;32m      1\u001b[0m \u001b[0;32mwhile\u001b[0m \u001b[0;32mTrue\u001b[0m\u001b[0;34m:\u001b[0m\u001b[0;34m\u001b[0m\u001b[0;34m\u001b[0m\u001b[0m\n\u001b[0;32m----> 2\u001b[0;31m     \u001b[0muser_input\u001b[0m \u001b[0;34m=\u001b[0m \u001b[0minput\u001b[0m\u001b[0;34m(\u001b[0m\u001b[0;34m\"User: \"\u001b[0m\u001b[0;34m)\u001b[0m\u001b[0;34m\u001b[0m\u001b[0;34m\u001b[0m\u001b[0m\n\u001b[0m\u001b[1;32m      3\u001b[0m     \u001b[0madd_message\u001b[0m\u001b[0;34m(\u001b[0m\u001b[0;34m{\u001b[0m\u001b[0;34m\"role\"\u001b[0m\u001b[0;34m:\u001b[0m \u001b[0;34m\"user\"\u001b[0m\u001b[0;34m,\u001b[0m \u001b[0;34m\"content\"\u001b[0m\u001b[0;34m:\u001b[0m \u001b[0muser_input\u001b[0m\u001b[0;34m}\u001b[0m\u001b[0;34m)\u001b[0m\u001b[0;34m\u001b[0m\u001b[0;34m\u001b[0m\u001b[0m\n\u001b[1;32m      4\u001b[0m \u001b[0;34m\u001b[0m\u001b[0m\n\u001b[1;32m      5\u001b[0m     \u001b[0;32mtry\u001b[0m\u001b[0;34m:\u001b[0m\u001b[0;34m\u001b[0m\u001b[0;34m\u001b[0m\u001b[0m\n",
            "\u001b[0;32m/usr/local/lib/python3.12/dist-packages/ipykernel/kernelbase.py\u001b[0m in \u001b[0;36mraw_input\u001b[0;34m(self, prompt)\u001b[0m\n\u001b[1;32m   1175\u001b[0m                 \u001b[0;34m\"raw_input was called, but this frontend does not support input requests.\"\u001b[0m\u001b[0;34m\u001b[0m\u001b[0;34m\u001b[0m\u001b[0m\n\u001b[1;32m   1176\u001b[0m             )\n\u001b[0;32m-> 1177\u001b[0;31m         return self._input_request(\n\u001b[0m\u001b[1;32m   1178\u001b[0m             \u001b[0mstr\u001b[0m\u001b[0;34m(\u001b[0m\u001b[0mprompt\u001b[0m\u001b[0;34m)\u001b[0m\u001b[0;34m,\u001b[0m\u001b[0;34m\u001b[0m\u001b[0;34m\u001b[0m\u001b[0m\n\u001b[1;32m   1179\u001b[0m             \u001b[0mself\u001b[0m\u001b[0;34m.\u001b[0m\u001b[0m_parent_ident\u001b[0m\u001b[0;34m[\u001b[0m\u001b[0;34m\"shell\"\u001b[0m\u001b[0;34m]\u001b[0m\u001b[0;34m,\u001b[0m\u001b[0;34m\u001b[0m\u001b[0;34m\u001b[0m\u001b[0m\n",
            "\u001b[0;32m/usr/local/lib/python3.12/dist-packages/ipykernel/kernelbase.py\u001b[0m in \u001b[0;36m_input_request\u001b[0;34m(self, prompt, ident, parent, password)\u001b[0m\n\u001b[1;32m   1217\u001b[0m             \u001b[0;32mexcept\u001b[0m \u001b[0mKeyboardInterrupt\u001b[0m\u001b[0;34m:\u001b[0m\u001b[0;34m\u001b[0m\u001b[0;34m\u001b[0m\u001b[0m\n\u001b[1;32m   1218\u001b[0m                 \u001b[0;31m# re-raise KeyboardInterrupt, to truncate traceback\u001b[0m\u001b[0;34m\u001b[0m\u001b[0;34m\u001b[0m\u001b[0m\n\u001b[0;32m-> 1219\u001b[0;31m                 \u001b[0;32mraise\u001b[0m \u001b[0mKeyboardInterrupt\u001b[0m\u001b[0;34m(\u001b[0m\u001b[0;34m\"Interrupted by user\"\u001b[0m\u001b[0;34m)\u001b[0m \u001b[0;32mfrom\u001b[0m \u001b[0;32mNone\u001b[0m\u001b[0;34m\u001b[0m\u001b[0;34m\u001b[0m\u001b[0m\n\u001b[0m\u001b[1;32m   1220\u001b[0m             \u001b[0;32mexcept\u001b[0m \u001b[0mException\u001b[0m\u001b[0;34m:\u001b[0m\u001b[0;34m\u001b[0m\u001b[0;34m\u001b[0m\u001b[0m\n\u001b[1;32m   1221\u001b[0m                 \u001b[0mself\u001b[0m\u001b[0;34m.\u001b[0m\u001b[0mlog\u001b[0m\u001b[0;34m.\u001b[0m\u001b[0mwarning\u001b[0m\u001b[0;34m(\u001b[0m\u001b[0;34m\"Invalid Message:\"\u001b[0m\u001b[0;34m,\u001b[0m \u001b[0mexc_info\u001b[0m\u001b[0;34m=\u001b[0m\u001b[0;32mTrue\u001b[0m\u001b[0;34m)\u001b[0m\u001b[0;34m\u001b[0m\u001b[0;34m\u001b[0m\u001b[0m\n",
            "\u001b[0;31mKeyboardInterrupt\u001b[0m: Interrupted by user"
          ]
        }
      ]
    },
    {
      "cell_type": "code",
      "source": [
        "SUMMARY"
      ],
      "metadata": {
        "id": "WgWA5FvwVf86",
        "colab": {
          "base_uri": "https://localhost:8080/",
          "height": 139
        },
        "outputId": "ab4e7547-20b9-4513-8a84-847c2bacde5e"
      },
      "execution_count": 58,
      "outputs": [
        {
          "output_type": "execute_result",
          "data": {
            "text/plain": [
              "'It seems like you\\'re interested in learning more about the history of computers, civilizations, and the most expensive computers and chips in the world. I\\'d be happy to help you explore these topics further.\\n\\nTo recap, we discussed the following:\\n\\n**History of Computers and Civilizations:**\\n\\n1. **The first computer**: We talked about the different contenders for the title of \"first computer,\" including Charles Babbage\\'s Analytical Engine, Konrad Zuse\\'s Z1, Colossus, and ENIAC. These early machines paved the way for the development of modern computers.\\n2. **The oldest civilization**: We explored some of the oldest known civilizations, including Sumer, Egypt, and Mesopotamia, and discussed their contributions to the development of writing, governance, and technology.\\n\\n**Most Expensive Computers and Chips:**\\n\\n1. **The most expensive computer**: We talked about the Summit Supercomputer, which is currently the world\\'s fastest supercomputer, with a price tag of'"
            ],
            "application/vnd.google.colaboratory.intrinsic+json": {
              "type": "string"
            }
          },
          "metadata": {},
          "execution_count": 58
        }
      ]
    },
    {
      "cell_type": "code",
      "source": [],
      "metadata": {
        "id": "pbhqZoMjAM9Q"
      },
      "execution_count": null,
      "outputs": []
    }
  ]
}