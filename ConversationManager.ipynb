{
  "nbformat": 4,
  "nbformat_minor": 0,
  "metadata": {
    "colab": {
      "provenance": [],
      "collapsed_sections": [
        "9gPRrq8PGjJb",
        "b4_fU74jJ66f",
        "1ctXTVPmP8Fq"
      ]
    },
    "kernelspec": {
      "name": "python3",
      "display_name": "Python 3"
    },
    "language_info": {
      "name": "python"
    }
  },
  "cells": [
    {
      "cell_type": "markdown",
      "source": [
        "# Downloads and Imports"
      ],
      "metadata": {
        "id": "9gPRrq8PGjJb"
      }
    },
    {
      "cell_type": "code",
      "execution_count": null,
      "metadata": {
        "id": "BD0QavPNFhcp"
      },
      "outputs": [],
      "source": [
        "!pip install requests openai jsonschema"
      ]
    },
    {
      "cell_type": "code",
      "source": [
        "import json\n",
        "from openai import OpenAI\n",
        "from google.colab import userdata\n",
        "from typing import List"
      ],
      "metadata": {
        "id": "bXXbMbfVH7BS"
      },
      "execution_count": 14,
      "outputs": []
    },
    {
      "cell_type": "markdown",
      "source": [
        "# Configurations, Model Instances and Constans"
      ],
      "metadata": {
        "id": "b4_fU74jJ66f"
      }
    },
    {
      "cell_type": "code",
      "source": [
        "CHAT_MODEL = \"llama-3.3-70b-versatile\"\n",
        "STRUCTURED_OUTPUT_MODEL = \"openai/gpt-oss-20b\""
      ],
      "metadata": {
        "id": "C0MEJ6f1LM4M"
      },
      "execution_count": 19,
      "outputs": []
    },
    {
      "cell_type": "code",
      "source": [
        "client = OpenAI(\n",
        "    base_url=\"https://api.groq.com/openai/v1\",\n",
        "    api_key = userdata.get(\"GROQ_API_KEY\")\n",
        ")"
      ],
      "metadata": {
        "id": "AyNdxjW7J-Dt"
      },
      "execution_count": 20,
      "outputs": []
    },
    {
      "cell_type": "code",
      "source": [
        "MESSAGE_HISTORY : List[dict] = []"
      ],
      "metadata": {
        "id": "EqogJWocNBP2"
      },
      "execution_count": 43,
      "outputs": []
    },
    {
      "cell_type": "code",
      "source": [
        "summarization_interval = 0\n",
        "turn_count = 0"
      ],
      "metadata": {
        "id": "wlxFwChyP46F"
      },
      "execution_count": 28,
      "outputs": []
    },
    {
      "cell_type": "code",
      "source": [
        "SUMMARY = \"\""
      ],
      "metadata": {
        "id": "FUDq_20SQn_-"
      },
      "execution_count": 23,
      "outputs": []
    },
    {
      "cell_type": "code",
      "source": [
        "CHAT_MODEL_SYSTEM_PROMPT = \"\"\"\n",
        "\n",
        "\"\"\""
      ],
      "metadata": {
        "id": "fJ8EgtlGSK4B"
      },
      "execution_count": 18,
      "outputs": []
    },
    {
      "cell_type": "markdown",
      "source": [
        "# Conversation Manager Utilities"
      ],
      "metadata": {
        "id": "1ctXTVPmP8Fq"
      }
    },
    {
      "cell_type": "code",
      "source": [
        "# Function to add messages\n",
        "def add_message(message):\n",
        "    global turn_count\n",
        "    MESSAGE_HISTORY.append(message)\n",
        "\n",
        "    print(f\"Turn {turn_count}: Added {message}\")\n",
        "    turn_count += 1"
      ],
      "metadata": {
        "id": "ydfk_B0OP_br"
      },
      "execution_count": 32,
      "outputs": []
    },
    {
      "cell_type": "code",
      "source": [
        "while True:\n",
        "    user_input = input(\"User: \")\n",
        "    add_message({\"role\": \"user\", \"content\": user_input})\n",
        "\n",
        "    try:\n",
        "        chat_bot_response = client.chat.completions.create(\n",
        "            model=CHAT_MODEL,\n",
        "            messages=MESSAGE_HISTORY\n",
        "        )\n",
        "        response_content = chat_bot_response.choices[0].message.content\n",
        "        add_message({\"role\": \"assistant\", \"content\": response_content})\n",
        "\n",
        "        print(f\"ChatBot: {response_content}\")\n",
        "\n",
        "    except Exception as e:\n",
        "        print(f\"An error occurred: {e}\")"
      ],
      "metadata": {
        "colab": {
          "base_uri": "https://localhost:8080/",
          "height": 810
        },
        "id": "kc8J6W-8R7-g",
        "outputId": "9e6c20bf-f227-479b-92c0-414b2dc3a988"
      },
      "execution_count": 45,
      "outputs": [
        {
          "output_type": "stream",
          "name": "stdout",
          "text": [
            "User: Hello\n",
            "Turn 10: Added {'role': 'user', 'content': 'Hello'}\n",
            "Turn 11: Added {'role': 'assistant', 'content': 'Hello. How can I help you today?'}\n",
            "ChatBot: Hello. How can I help you today?\n",
            "User: What are you capabilites?\n",
            "Turn 12: Added {'role': 'user', 'content': 'What are you capabilites?'}\n",
            "Turn 13: Added {'role': 'assistant', 'content': \"I'm a large language model, so I can do a variety of things to help and inform you. Here are some of my capabilities:\\n\\n1. **Answering questions**: I can process natural language queries and provide relevant answers, covering a wide range of topics from science and history to entertainment and culture.\\n2. **Generating text**: I can create text based on a prompt, topic, or style. This can be useful for writing articles, stories, or even emails.\\n3. **Translation**: I can translate text from one language to another, including popular languages such as Spanish, French, German, Chinese, and many more.\\n4. **Summarization**: I can summarize long pieces of text into shorter, more digestible versions, highlighting key points and main ideas.\\n5. **Conversation**: I can engage in natural-sounding conversations, using context and understanding to respond to questions and statements.\\n6. **Language understanding**: I can comprehend nuances of language, including idioms, colloquialisms, and figurative language.\\n7. **Creative writing**: I can generate creative writing, such as poetry or short stories, based on prompts or themes.\\n8. **Jokes and humor**: I can understand and generate jokes, as well as respond to humor in a way that's (hopefully) funny.\\n9. **Math and calculations**: I can perform mathematical calculations and provide solutions to problems, from basic arithmetic to more advanced math concepts.\\n10. **Learning and feedback**: I can learn from feedback and adapt to improve my performance over time, so please let me know if I make any mistakes or if there's something I can do better!\\n\\nWhat would you like to talk about or ask me to do?\"}\n",
            "ChatBot: I'm a large language model, so I can do a variety of things to help and inform you. Here are some of my capabilities:\n",
            "\n",
            "1. **Answering questions**: I can process natural language queries and provide relevant answers, covering a wide range of topics from science and history to entertainment and culture.\n",
            "2. **Generating text**: I can create text based on a prompt, topic, or style. This can be useful for writing articles, stories, or even emails.\n",
            "3. **Translation**: I can translate text from one language to another, including popular languages such as Spanish, French, German, Chinese, and many more.\n",
            "4. **Summarization**: I can summarize long pieces of text into shorter, more digestible versions, highlighting key points and main ideas.\n",
            "5. **Conversation**: I can engage in natural-sounding conversations, using context and understanding to respond to questions and statements.\n",
            "6. **Language understanding**: I can comprehend nuances of language, including idioms, colloquialisms, and figurative language.\n",
            "7. **Creative writing**: I can generate creative writing, such as poetry or short stories, based on prompts or themes.\n",
            "8. **Jokes and humor**: I can understand and generate jokes, as well as respond to humor in a way that's (hopefully) funny.\n",
            "9. **Math and calculations**: I can perform mathematical calculations and provide solutions to problems, from basic arithmetic to more advanced math concepts.\n",
            "10. **Learning and feedback**: I can learn from feedback and adapt to improve my performance over time, so please let me know if I make any mistakes or if there's something I can do better!\n",
            "\n",
            "What would you like to talk about or ask me to do?\n",
            "User: Exit\n",
            "Turn 14: Added {'role': 'user', 'content': 'Exit'}\n",
            "Turn 15: Added {'role': 'assistant', 'content': 'It was nice chatting with you. Have a great day and feel free to come back if you need anything else. Goodbye!'}\n",
            "ChatBot: It was nice chatting with you. Have a great day and feel free to come back if you need anything else. Goodbye!\n"
          ]
        },
        {
          "output_type": "error",
          "ename": "KeyboardInterrupt",
          "evalue": "Interrupted by user",
          "traceback": [
            "\u001b[0;31m---------------------------------------------------------------------------\u001b[0m",
            "\u001b[0;31mKeyboardInterrupt\u001b[0m                         Traceback (most recent call last)",
            "\u001b[0;32m/tmp/ipython-input-4243345327.py\u001b[0m in \u001b[0;36m<cell line: 0>\u001b[0;34m()\u001b[0m\n\u001b[1;32m      1\u001b[0m \u001b[0;32mwhile\u001b[0m \u001b[0;32mTrue\u001b[0m\u001b[0;34m:\u001b[0m\u001b[0;34m\u001b[0m\u001b[0;34m\u001b[0m\u001b[0m\n\u001b[0;32m----> 2\u001b[0;31m     \u001b[0muser_input\u001b[0m \u001b[0;34m=\u001b[0m \u001b[0minput\u001b[0m\u001b[0;34m(\u001b[0m\u001b[0;34m\"User: \"\u001b[0m\u001b[0;34m)\u001b[0m\u001b[0;34m\u001b[0m\u001b[0;34m\u001b[0m\u001b[0m\n\u001b[0m\u001b[1;32m      3\u001b[0m     \u001b[0madd_message\u001b[0m\u001b[0;34m(\u001b[0m\u001b[0;34m{\u001b[0m\u001b[0;34m\"role\"\u001b[0m\u001b[0;34m:\u001b[0m \u001b[0;34m\"user\"\u001b[0m\u001b[0;34m,\u001b[0m \u001b[0;34m\"content\"\u001b[0m\u001b[0;34m:\u001b[0m \u001b[0muser_input\u001b[0m\u001b[0;34m}\u001b[0m\u001b[0;34m)\u001b[0m\u001b[0;34m\u001b[0m\u001b[0;34m\u001b[0m\u001b[0m\n\u001b[1;32m      4\u001b[0m \u001b[0;34m\u001b[0m\u001b[0m\n\u001b[1;32m      5\u001b[0m     \u001b[0;32mtry\u001b[0m\u001b[0;34m:\u001b[0m\u001b[0;34m\u001b[0m\u001b[0;34m\u001b[0m\u001b[0m\n",
            "\u001b[0;32m/usr/local/lib/python3.12/dist-packages/ipykernel/kernelbase.py\u001b[0m in \u001b[0;36mraw_input\u001b[0;34m(self, prompt)\u001b[0m\n\u001b[1;32m   1175\u001b[0m                 \u001b[0;34m\"raw_input was called, but this frontend does not support input requests.\"\u001b[0m\u001b[0;34m\u001b[0m\u001b[0;34m\u001b[0m\u001b[0m\n\u001b[1;32m   1176\u001b[0m             )\n\u001b[0;32m-> 1177\u001b[0;31m         return self._input_request(\n\u001b[0m\u001b[1;32m   1178\u001b[0m             \u001b[0mstr\u001b[0m\u001b[0;34m(\u001b[0m\u001b[0mprompt\u001b[0m\u001b[0;34m)\u001b[0m\u001b[0;34m,\u001b[0m\u001b[0;34m\u001b[0m\u001b[0;34m\u001b[0m\u001b[0m\n\u001b[1;32m   1179\u001b[0m             \u001b[0mself\u001b[0m\u001b[0;34m.\u001b[0m\u001b[0m_parent_ident\u001b[0m\u001b[0;34m[\u001b[0m\u001b[0;34m\"shell\"\u001b[0m\u001b[0;34m]\u001b[0m\u001b[0;34m,\u001b[0m\u001b[0;34m\u001b[0m\u001b[0;34m\u001b[0m\u001b[0m\n",
            "\u001b[0;32m/usr/local/lib/python3.12/dist-packages/ipykernel/kernelbase.py\u001b[0m in \u001b[0;36m_input_request\u001b[0;34m(self, prompt, ident, parent, password)\u001b[0m\n\u001b[1;32m   1217\u001b[0m             \u001b[0;32mexcept\u001b[0m \u001b[0mKeyboardInterrupt\u001b[0m\u001b[0;34m:\u001b[0m\u001b[0;34m\u001b[0m\u001b[0;34m\u001b[0m\u001b[0m\n\u001b[1;32m   1218\u001b[0m                 \u001b[0;31m# re-raise KeyboardInterrupt, to truncate traceback\u001b[0m\u001b[0;34m\u001b[0m\u001b[0;34m\u001b[0m\u001b[0m\n\u001b[0;32m-> 1219\u001b[0;31m                 \u001b[0;32mraise\u001b[0m \u001b[0mKeyboardInterrupt\u001b[0m\u001b[0;34m(\u001b[0m\u001b[0;34m\"Interrupted by user\"\u001b[0m\u001b[0;34m)\u001b[0m \u001b[0;32mfrom\u001b[0m \u001b[0;32mNone\u001b[0m\u001b[0;34m\u001b[0m\u001b[0;34m\u001b[0m\u001b[0m\n\u001b[0m\u001b[1;32m   1220\u001b[0m             \u001b[0;32mexcept\u001b[0m \u001b[0mException\u001b[0m\u001b[0;34m:\u001b[0m\u001b[0;34m\u001b[0m\u001b[0;34m\u001b[0m\u001b[0m\n\u001b[1;32m   1221\u001b[0m                 \u001b[0mself\u001b[0m\u001b[0;34m.\u001b[0m\u001b[0mlog\u001b[0m\u001b[0;34m.\u001b[0m\u001b[0mwarning\u001b[0m\u001b[0;34m(\u001b[0m\u001b[0;34m\"Invalid Message:\"\u001b[0m\u001b[0;34m,\u001b[0m \u001b[0mexc_info\u001b[0m\u001b[0;34m=\u001b[0m\u001b[0;32mTrue\u001b[0m\u001b[0;34m)\u001b[0m\u001b[0;34m\u001b[0m\u001b[0;34m\u001b[0m\u001b[0m\n",
            "\u001b[0;31mKeyboardInterrupt\u001b[0m: Interrupted by user"
          ]
        }
      ]
    },
    {
      "cell_type": "code",
      "source": [
        "MESSAGE_HISTORY"
      ],
      "metadata": {
        "colab": {
          "base_uri": "https://localhost:8080/"
        },
        "id": "4Lmd1MbgS892",
        "outputId": "73623c5c-aca6-4d62-b2da-2bf8029d01a7"
      },
      "execution_count": 46,
      "outputs": [
        {
          "output_type": "execute_result",
          "data": {
            "text/plain": [
              "[{'role': 'user', 'content': 'Hello'},\n",
              " {'role': 'assistant', 'content': 'Hello. How can I help you today?'},\n",
              " {'role': 'user', 'content': 'What are you capabilites?'},\n",
              " {'role': 'assistant',\n",
              "  'content': \"I'm a large language model, so I can do a variety of things to help and inform you. Here are some of my capabilities:\\n\\n1. **Answering questions**: I can process natural language queries and provide relevant answers, covering a wide range of topics from science and history to entertainment and culture.\\n2. **Generating text**: I can create text based on a prompt, topic, or style. This can be useful for writing articles, stories, or even emails.\\n3. **Translation**: I can translate text from one language to another, including popular languages such as Spanish, French, German, Chinese, and many more.\\n4. **Summarization**: I can summarize long pieces of text into shorter, more digestible versions, highlighting key points and main ideas.\\n5. **Conversation**: I can engage in natural-sounding conversations, using context and understanding to respond to questions and statements.\\n6. **Language understanding**: I can comprehend nuances of language, including idioms, colloquialisms, and figurative language.\\n7. **Creative writing**: I can generate creative writing, such as poetry or short stories, based on prompts or themes.\\n8. **Jokes and humor**: I can understand and generate jokes, as well as respond to humor in a way that's (hopefully) funny.\\n9. **Math and calculations**: I can perform mathematical calculations and provide solutions to problems, from basic arithmetic to more advanced math concepts.\\n10. **Learning and feedback**: I can learn from feedback and adapt to improve my performance over time, so please let me know if I make any mistakes or if there's something I can do better!\\n\\nWhat would you like to talk about or ask me to do?\"},\n",
              " {'role': 'user', 'content': 'Exit'},\n",
              " {'role': 'assistant',\n",
              "  'content': 'It was nice chatting with you. Have a great day and feel free to come back if you need anything else. Goodbye!'}]"
            ]
          },
          "metadata": {},
          "execution_count": 46
        }
      ]
    },
    {
      "cell_type": "code",
      "source": [],
      "metadata": {
        "id": "WgWA5FvwVf86"
      },
      "execution_count": null,
      "outputs": []
    }
  ]
}