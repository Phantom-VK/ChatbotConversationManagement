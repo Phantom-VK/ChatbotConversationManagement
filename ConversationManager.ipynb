{
  "nbformat": 4,
  "nbformat_minor": 0,
  "metadata": {
    "colab": {
      "provenance": [],
      "collapsed_sections": [
        "9gPRrq8PGjJb",
        "b4_fU74jJ66f"
      ]
    },
    "kernelspec": {
      "name": "python3",
      "display_name": "Python 3"
    },
    "language_info": {
      "name": "python"
    }
  },
  "cells": [
    {
      "cell_type": "markdown",
      "source": [
        "# Downloads and Imports"
      ],
      "metadata": {
        "id": "9gPRrq8PGjJb"
      }
    },
    {
      "cell_type": "code",
      "execution_count": null,
      "metadata": {
        "id": "BD0QavPNFhcp"
      },
      "outputs": [],
      "source": [
        "!pip install requests openai jsonschema"
      ]
    },
    {
      "cell_type": "code",
      "source": [
        "import json\n",
        "from openai import OpenAI\n",
        "from google.colab import userdata"
      ],
      "metadata": {
        "id": "bXXbMbfVH7BS"
      },
      "execution_count": 13,
      "outputs": []
    },
    {
      "cell_type": "markdown",
      "source": [
        "# Configursations and Instances"
      ],
      "metadata": {
        "id": "b4_fU74jJ66f"
      }
    },
    {
      "cell_type": "code",
      "source": [
        "RESPONSE_MODEL = \"llama-3.3-70b-versatile\"\n",
        "STRUCTURED_OUTPUT_MODEL = \"openai/gpt-oss-20b\""
      ],
      "metadata": {
        "id": "C0MEJ6f1LM4M"
      },
      "execution_count": 5,
      "outputs": []
    },
    {
      "cell_type": "code",
      "source": [
        "client = OpenAI(\n",
        "    base_url=\"https://api.groq.com/openai/v1\",\n",
        "    api_key = userdata.get(\"GROQ_API_KEY\")\n",
        ")"
      ],
      "metadata": {
        "id": "AyNdxjW7J-Dt"
      },
      "execution_count": 7,
      "outputs": []
    },
    {
      "cell_type": "code",
      "source": [
        "response1 = client.chat.completions.create(\n",
        "                    model=RESPONSE_MODEL,\n",
        "                    messages=[{\"role\": \"user\", \"content\": \"Testin bot, what are your capabilities?\"}],\n",
        "                    max_tokens=300,\n",
        "                    temperature=0.3\n",
        "                )\n",
        "response.choices[0].message.content"
      ],
      "metadata": {
        "colab": {
          "base_uri": "https://localhost:8080/",
          "height": 52
        },
        "id": "v-mZ3Lu-LhNK",
        "outputId": "6f80be28-e134-4962-82cb-8a64a9342bdb"
      },
      "execution_count": 9,
      "outputs": [
        {
          "output_type": "execute_result",
          "data": {
            "text/plain": [
              "\"I can be used in a variety of ways, from helping you plan a vacation to creating art. I'm here to assist you in finding the help or information you need. My strengths include answering questions, generating text and images and even just chatting with you.\""
            ],
            "application/vnd.google.colaboratory.intrinsic+json": {
              "type": "string"
            }
          },
          "metadata": {},
          "execution_count": 9
        }
      ]
    },
    {
      "cell_type": "code",
      "source": [
        "response2 = client.chat.completions.create(\n",
        "                    model=STRUCTURED_OUTPUT_MODEL,\n",
        "                    messages=[{\"role\": \"user\", \"content\": \"Testin bot, what are your capabilities?\"}],\n",
        "                    max_tokens=300,\n",
        "                    temperature=0.3\n",
        "                )\n",
        "response2.choices[0].message.content"
      ],
      "metadata": {
        "colab": {
          "base_uri": "https://localhost:8080/",
          "height": 122
        },
        "id": "ex_MZ-FNMqKW",
        "outputId": "8de342a8-6e7b-4982-f250-af4662afafa0"
      },
      "execution_count": 12,
      "outputs": [
        {
          "output_type": "execute_result",
          "data": {
            "text/plain": [
              "'Hey there! 👋 I’m your friendly “Testin” bot, and I’ve got a pretty wide range of skills to help you out. Here’s a quick rundown of what I can do:\\n\\n| What I can help with | How I do it |\\n|----------------------|-------------|\\n| **Answer questions** | From general knowledge to niche topics, I’ll give you clear, concise answers. |\\n| **Explain concepts** | I break down complex ideas into simple, easy‑to‑understand explanations. |\\n| **Generate text** | Need a story, email, poem, or social‑media post? I can craft it for you. |\\n| **Summarize** | Provide a short recap of long articles, reports, or transcripts. |\\n| **Translate** | Convert text between many languages (English, Spanish, French, German, Chinese, etc.). |\\n| **Code help** | Debug snippets, explain algorithms, or write small scripts in Python, JavaScript, Java, C++, and more. |\\n| **Brainstorm ideas'"
            ],
            "application/vnd.google.colaboratory.intrinsic+json": {
              "type": "string"
            }
          },
          "metadata": {},
          "execution_count": 12
        }
      ]
    },
    {
      "cell_type": "code",
      "source": [],
      "metadata": {
        "id": "EqogJWocNBP2"
      },
      "execution_count": null,
      "outputs": []
    }
  ]
}